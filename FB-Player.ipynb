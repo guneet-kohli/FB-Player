{
 "cells": [
  {
   "cell_type": "raw",
   "id": "538c3b36",
   "metadata": {},
   "source": [
    "Submitted by: Guneet Kohli"
   ]
  },
  {
   "cell_type": "markdown",
   "id": "4325fd9d",
   "metadata": {},
   "source": [
    "# Football Player Price Visualization & Prediction"
   ]
  },
  {
   "cell_type": "markdown",
   "id": "e1d9933f",
   "metadata": {},
   "source": [
    "## Football Player Price Visualization"
   ]
  },
  {
   "cell_type": "markdown",
   "id": "3f62584b-2fce-43f6-83a8-2e923224a9e4",
   "metadata": {},
   "source": [
    "In the English Premier League, May - July represents a lull period due to the lack of club football.\n",
    "What makes up for it, is the intense transfer speculation that surrounds all major player transfers today. \n",
    "An important part of negotiations is predicting the fair market price for a player. \n",
    "Tasked with predicting this market value of a player using the data provided below;\n",
    "the attached data set consists of the following attributes:\n",
    "name: name of the player\n",
    "club: club of the player\n",
    "age : age of the player\n",
    "### position : the usual position on the pitch\n",
    "position_cat : \n",
    "- 1 for attackers\n",
    "- 2 for midfielders\n",
    "- 3 for defenders\n",
    "- 4 for goalkeepers\n",
    "\n",
    "### market_value : as on transfermrkt.com on july 20th, 2017\n",
    "- page_views : average daily wikipedia page views from september 1, 2016 to may 1, 2017\n",
    "- fpl_value : value in fantasy premier league as on july 20th, 2017\n",
    "- fpl_sel : % of fpl players who have selected that player in their team\n",
    "### fpl_points : fpl points accumulated over the previous season \n",
    "### region: \n",
    "- 1 for England\n",
    "- 2 for Eu\n",
    "- 3 for Americans\n",
    "- 4 for Rest of world\n",
    "### nationality\n",
    "- new_foreign : whether a new signing from a different league, for 2017/18 (till 20th july)\n",
    "- age_cat\n",
    "- club_id\n",
    "- big_club: whether one of the top 6 clubs\n",
    "- new_signing: whether a new signing for 2017/18 (till 20th july)\n",
    "\n",
    "TASK: \n",
    "- Used seaborn, numpy, pandas to investigate the data and presented the findings\n",
    "- Built a model using linear regression to predict market_value"
   ]
  },
  {
   "cell_type": "code",
   "execution_count": null,
   "id": "379bcfb1",
   "metadata": {},
   "outputs": [],
   "source": [
    "import seaborn as sns\n",
    "import pandas as pd\n",
    "import numpy as np\n",
    "import matplotlib.pyplot as plt"
   ]
  },
  {
   "cell_type": "code",
   "execution_count": null,
   "id": "731d414c",
   "metadata": {},
   "outputs": [],
   "source": [
    "fb=pd.read_csv('//Users//guneetkohli//Desktop//Football Player Price Prediction//football 8 sem.csv')"
   ]
  },
  {
   "cell_type": "code",
   "execution_count": null,
   "id": "2c2a1016",
   "metadata": {},
   "outputs": [],
   "source": [
    "fb.head()"
   ]
  },
  {
   "cell_type": "markdown",
   "id": "8f3a9e3f",
   "metadata": {},
   "source": [
    "### Distribution Of Market Value\n"
   ]
  },
  {
   "cell_type": "code",
   "execution_count": null,
   "id": "c3d0f07f",
   "metadata": {},
   "outputs": [],
   "source": [
    "sns.distplot(fb.market_value)\n",
    "plt.xlabel('Market Value')\n",
    "plt.ylabel('count')\n",
    "plt.show()"
   ]
  },
  {
   "cell_type": "markdown",
   "id": "cc33c72d",
   "metadata": {},
   "source": [
    "Clearly not a normal distribution, but this was expected. Teams tend to have few elite players, and a large number of low + mid value players in their squads. An analysis of a team’s 1st 15 would probably look more like a normal distribution, since we’d be excluding low value fringe / youth players."
   ]
  },
  {
   "cell_type": "markdown",
   "id": "28cdd0f3",
   "metadata": {},
   "source": [
    "### Distribution Of Popularity"
   ]
  },
  {
   "cell_type": "markdown",
   "id": "6fed562e",
   "metadata": {},
   "source": [
    "Similar distribution to market value, except the presence of outliers as the popularity comes close to 8000"
   ]
  },
  {
   "cell_type": "code",
   "execution_count": null,
   "id": "4c03835a",
   "metadata": {},
   "outputs": [],
   "source": [
    "sns.histplot(fb.page_views)\n",
    "plt.xlabel('Popularity')\n",
    "plt.ylabel('count')\n",
    "plt.show()"
   ]
  },
  {
   "cell_type": "markdown",
   "id": "1d505404",
   "metadata": {},
   "source": [
    "### FPL Valuation\n"
   ]
  },
  {
   "cell_type": "code",
   "execution_count": null,
   "id": "c927acdf",
   "metadata": {},
   "outputs": [],
   "source": [
    "g = sns.scatterplot(x= fb.fpl_value,y = fb.market_value)\n",
    "\n",
    "g.figure.set_size_inches(5,5)\n",
    "\n",
    "plt.title(\"Impact of FPL Value On Market Value\")\n",
    "plt.show()"
   ]
  },
  {
   "cell_type": "markdown",
   "id": "2d80d20d",
   "metadata": {},
   "source": [
    "There seems to be nice agreement between the FPL value and market value, \n",
    "despite the fact that FPL valuation is decidedly shorter term, so age would be less of a factor. "
   ]
  },
  {
   "cell_type": "markdown",
   "id": "cd802e43",
   "metadata": {},
   "source": [
    "### Market Value with Age\n",
    "It is fairly intuitive that older players will, on average, have lower market values. A rough illustration -"
   ]
  },
  {
   "cell_type": "code",
   "execution_count": null,
   "id": "52c4786e",
   "metadata": {},
   "outputs": [],
   "source": [
    "\n",
    "g = sns.swarmplot(x = \"age\",\n",
    "              y= 'market_value', \n",
    "              data = fb,\n",
    "              size = 7,\n",
    "              hue=\"age\", legend=True)\n",
    "\n",
    "g.figure.set_size_inches(7,4)\n",
    "\n",
    "plt.title(\"Impact of Age On Market Value\")\n",
    "plt.show()"
   ]
  },
  {
   "cell_type": "markdown",
   "id": "6beca3d7-b659-46f0-9249-a504731dc96b",
   "metadata": {},
   "source": [
    "### Relationship between Region and Market Value Dependence"
   ]
  },
  {
   "cell_type": "code",
   "execution_count": null,
   "id": "59b1bfec-5f56-4a80-99a0-b02a52c30095",
   "metadata": {},
   "outputs": [],
   "source": [
    "sns.jointplot( x= fb.region,y=fb.market_value,data=fb)\n",
    "plt.show()"
   ]
  },
  {
   "cell_type": "markdown",
   "id": "fa3d56ac",
   "metadata": {},
   "source": [
    "### Relationship between Player Position and market value\n",
    "    1: 'Attackers',\n",
    "    2: 'Midfielder',\n",
    "    3: 'Defender',\n",
    "    4: 'Goalkeeper'"
   ]
  },
  {
   "cell_type": "code",
   "execution_count": null,
   "id": "fb47f1d7",
   "metadata": {},
   "outputs": [],
   "source": [
    "sns.catplot(x=\"position_cat\", y=\"market_value\", kind=\"bar\", data=fb,hue=\"position_cat\", legend=True)"
   ]
  },
  {
   "cell_type": "markdown",
   "id": "29330921",
   "metadata": {
    "jp-MarkdownHeadingCollapsed": true
   },
   "source": [
    "#### Attackers and midfielders have higher values in market"
   ]
  },
  {
   "cell_type": "markdown",
   "id": "a811a661",
   "metadata": {},
   "source": [
    "### Region and Market Value Dependence"
   ]
  },
  {
   "cell_type": "code",
   "execution_count": null,
   "id": "56e1d9a3",
   "metadata": {},
   "outputs": [],
   "source": [
    "sns.jointplot(x=fb.region,y=fb.market_value)\n",
    "plt.show()"
   ]
  },
  {
   "cell_type": "markdown",
   "id": "8e5bfbb8",
   "metadata": {},
   "source": [
    "### Market Value of Players from Big Clubs"
   ]
  },
  {
   "cell_type": "code",
   "execution_count": null,
   "id": "047c0871",
   "metadata": {},
   "outputs": [],
   "source": [
    "sns.jointplot(x=fb.big_club,y=fb.market_value, hue=fb.market_value)\n",
    "plt.show()"
   ]
  },
  {
   "cell_type": "markdown",
   "id": "40f62dc4",
   "metadata": {},
   "source": [
    "### Top 5  Valuable Players based on market value"
   ]
  },
  {
   "cell_type": "code",
   "execution_count": null,
   "id": "937c0861",
   "metadata": {},
   "outputs": [],
   "source": [
    "fb.nlargest(5,'market_value')"
   ]
  },
  {
   "cell_type": "markdown",
   "id": "a30c5e3b",
   "metadata": {},
   "source": [
    "### Simple Correlation"
   ]
  },
  {
   "cell_type": "code",
   "execution_count": null,
   "id": "a89c729d",
   "metadata": {},
   "outputs": [],
   "source": [
    "\n",
    "numeric_columns = fb.select_dtypes(include=['float64', 'int64'])\n",
    "\n",
    "corr = numeric_columns.corr()\n",
    "\n",
    "\n",
    "g = sns.heatmap(corr, vmax=.3, center=0,square=True, linewidths=.5, cbar_kws={\"shrink\": .5}, annot=True, fmt='.2f', cmap='coolwarm')\n",
    "\n",
    "sns.despine()\n",
    "g.figure.set_size_inches(14,10)\n",
    "\n",
    "plt.show()"
   ]
  },
  {
   "cell_type": "markdown",
   "id": "3afc6b18",
   "metadata": {},
   "source": [
    "As it can be implied from the heatmap easily, Market Vaue depends on various factors, namely\n",
    "Page views, Fpl_value, Fpl_points (Pairplots shown below also depict this fact)"
   ]
  },
  {
   "cell_type": "markdown",
   "id": "2e7d65dc",
   "metadata": {},
   "source": [
    "# Subset data and create Stacked Plot between club and nationality"
   ]
  },
  {
   "cell_type": "code",
   "execution_count": null,
   "id": "6d9a477e",
   "metadata": {},
   "outputs": [],
   "source": [
    "fb.club.unique()"
   ]
  },
  {
   "cell_type": "code",
   "execution_count": null,
   "id": "fc2e4a17",
   "metadata": {},
   "outputs": [],
   "source": [
    "fb.nationality.unique()"
   ]
  },
  {
   "cell_type": "code",
   "execution_count": null,
   "id": "676dffe6",
   "metadata": {},
   "outputs": [],
   "source": [
    "sns.set(style=\"ticks\")\n",
    "\n",
    "filtered_fb = fb[\n",
    "    (fb['club'].isin(['Arsenal', 'Bournemouth', 'Brighton+and+Hove', 'Burnley',\n",
    "       'Chelsea', 'Crystal+Palace', 'Everton', 'Huddersfield',\n",
    "       'Leicester+City', 'Liverpool', 'Manchester+City',\n",
    "       'Manchester+United', 'Newcastle+United', 'Southampton',\n",
    "       'Stoke+City', 'Swansea', 'Tottenham', 'Watford', 'West+Brom',\n",
    "       'West+Ham']) & \n",
    "                      (fb['nationality'].isin(['Chile', 'Germany', 'Czech Republic', 'England', 'France', 'Spain',\n",
    "       'Nigeria', 'Switzerland', 'Wales', 'Brazil', 'Egypt', 'Argentina',\n",
    "       'Colombia', 'Bosnia', 'Norway', 'Poland', 'Scotland', 'Congo DR',\n",
    "       'Ireland', 'Netherlands', 'Australia', \"Cote d'Ivoire\", 'Finland',\n",
    "       'Cameroon', 'Austria', 'Israel', 'Northern Ireland', 'Canada',\n",
    "       'Belgium', 'Iceland', 'Serbia', 'Portugal', 'Ghana', 'South Korea',\n",
    "       'Mali', 'Senegal', 'Curacao', 'Denmark', 'Slovenia',\n",
    "       'Trinidad and Tobago', 'Bermuda', 'Benin', 'Algeria', 'Jamaica',\n",
    "       'Japan', 'Tunisia', 'Croatia', 'Estonia', 'Ecuador', 'Armenia',\n",
    "       'Italy', 'Sweden', 'United States', 'Morocco', 'The Gambia',\n",
    "       'Kenya', 'Greece', 'Uruguay', 'Romania', 'Venezuela',\n",
    "       'New Zealand'])))]\n",
    "\n",
    "#print(filtered_fb)\n",
    "\n",
    "df_plot=filtered_fb.groupby(['club', 'nationality']).size().reset_index().pivot(columns='club', index='nationality', values=0).reset_index()\n",
    "\n",
    "g = df_plot.set_index('nationality').T.plot(kind='bar', stacked=True, color=sns.color_palette())\n",
    "sns.despine()\n",
    "g.figure.set_size_inches(15,15) \n",
    "plt.legend(loc = 2, bbox_to_anchor = (1,1))\n",
    "plt.title('Relationship between Club and Nationality')\n",
    "plt.show()"
   ]
  },
  {
   "cell_type": "markdown",
   "id": "f60fe1e1",
   "metadata": {},
   "source": [
    "# Pairplots"
   ]
  },
  {
   "cell_type": "code",
   "execution_count": null,
   "id": "19e7981c",
   "metadata": {},
   "outputs": [],
   "source": [
    "filtered_fb.head()"
   ]
  },
  {
   "cell_type": "code",
   "execution_count": null,
   "id": "a28c2600",
   "metadata": {},
   "outputs": [],
   "source": [
    "g = sns.pairplot(filtered_fb[['fpl_value','fpl_sel','fpl_points','page_views','market_value']])"
   ]
  },
  {
   "cell_type": "code",
   "execution_count": null,
   "id": "c3244bcb",
   "metadata": {},
   "outputs": [],
   "source": [
    "g = sns.swarmplot(x = \"club\",y= 'market_value', hue=\"club\",data = filtered_fb, size = 7, alpha=1)\n",
    "\n",
    "sns.despine()\n",
    "\n",
    "# Set the figure size\n",
    "g.figure.set_size_inches(10, 10)\n",
    "# Rotate x-axis labels to prevent overlap\n",
    "plt.xticks(rotation=90)\n",
    "\n",
    "# Set the title of the plot\n",
    "plt.title(\"Impact of Club On Market Value\")\n",
    "\n",
    "# Show the plot\n",
    "plt.show()"
   ]
  },
  {
   "cell_type": "code",
   "execution_count": null,
   "id": "eb83738b-9751-4977-886c-9216bb22116e",
   "metadata": {},
   "outputs": [],
   "source": [
    "g2 = sns.stripplot(x=\"club\", y=\"market_value\", hue=\"club\", data=filtered_fb, jitter=True, dodge=True)\n",
    "\n",
    "sns.despine()\n",
    "\n",
    "# Set the figure size\n",
    "g2.figure.set_size_inches(10, 10)\n",
    "# Rotate x-axis labels to prevent overlap\n",
    "plt.xticks(rotation=90)\n",
    "\n",
    "# Set the title of the plot\n",
    "plt.title(\"Impact of Club On Market Value\")\n",
    "\n",
    "# Show the plot\n",
    "plt.show()"
   ]
  },
  {
   "cell_type": "code",
   "execution_count": null,
   "id": "366465ef",
   "metadata": {},
   "outputs": [],
   "source": [
    "g = sns.boxplot(x = \"club\",\n",
    "              y = 'market_value', hue=\"club\",\n",
    "              data = filtered_fb, whis=np.inf)\n",
    "\n",
    "g.figure.set_size_inches(12,12)\n",
    "plt.xticks(rotation=90)\n",
    "plt.title(\"5 Number Summary--Market Values of Various clubs\")\n",
    "plt.show()"
   ]
  },
  {
   "cell_type": "markdown",
   "id": "db04a9a3-6319-4361-b4e1-35b221b2760a",
   "metadata": {},
   "source": [
    "## Simple Correlation"
   ]
  },
  {
   "cell_type": "code",
   "execution_count": null,
   "id": "51331945-0f6d-4cfa-98ef-b0774b94a2da",
   "metadata": {},
   "outputs": [],
   "source": [
    "# Drop non-numeric columns\n",
    "fb_numeric = fb.select_dtypes(include=['float64', 'int64'])\n",
    "\n",
    "# Compute the correlation matrix\n",
    "corr = fb_numeric.corr()\n",
    "\n",
    "# Plot heatmap\n",
    "g = sns.heatmap(corr, vmax=.3, center=0,\n",
    "            square=True, linewidths=.5, cbar_kws={\"shrink\": .5}, annot=True, fmt='.2f', cmap='coolwarm')\n",
    "\n",
    "sns.despine()\n",
    "g.figure.set_size_inches(14,10)\n",
    "\n",
    "plt.show()\n"
   ]
  },
  {
   "cell_type": "markdown",
   "id": "23cb68b4",
   "metadata": {},
   "source": [
    "# INSIGHTS\n"
   ]
  },
  {
   "cell_type": "markdown",
   "id": "ab071dbb",
   "metadata": {},
   "source": [
    "Factors that generate a higher market value are:\n",
    "1. Attackers and Defenders\n",
    "2. Players aged 22 to 28 \n",
    "3. Page Views\n",
    "4. European players \n",
    "5. higher fpl_values,higher fpl_points and more page_views\n",
    "\n",
    "Another factor:\n",
    "1. Mostly Armenians are part of different clubs\n",
    "2. Market value generated by non big clubs is denser but the non big clubs generate highest market_value"
   ]
  },
  {
   "cell_type": "code",
   "execution_count": null,
   "id": "b36ff7f9",
   "metadata": {},
   "outputs": [],
   "source": [
    "fb.head()"
   ]
  },
  {
   "cell_type": "markdown",
   "id": "d1e1496a",
   "metadata": {},
   "source": [
    "# Football Player Price Prediction"
   ]
  },
  {
   "cell_type": "markdown",
   "id": "01ceb9ee",
   "metadata": {},
   "source": [
    "### LINEAR REGRESSION\n"
   ]
  },
  {
   "cell_type": "markdown",
   "id": "241948a9",
   "metadata": {},
   "source": [
    "As illustrated from the heatmap, one can see that Market Value and Fpl_Value have highest correlation, numerically, 0.79. \n",
    "\n",
    "Thus, Prioritizing fpl_value attribute to predict market_value"
   ]
  },
  {
   "cell_type": "code",
   "execution_count": null,
   "id": "2bc816de",
   "metadata": {},
   "outputs": [],
   "source": [
    "from sklearn.model_selection import train_test_split\n",
    "from sklearn.preprocessing import MinMaxScaler\n",
    "from sklearn.metrics import mean_squared_error, accuracy_score"
   ]
  },
  {
   "cell_type": "markdown",
   "id": "45b6d23e",
   "metadata": {},
   "source": [
    "### Normalizing the data"
   ]
  },
  {
   "cell_type": "code",
   "execution_count": null,
   "id": "d5b2b21a",
   "metadata": {},
   "outputs": [],
   "source": [
    "X = fb['fpl_value'].values\n",
    "Y = fb['market_value'].values"
   ]
  },
  {
   "cell_type": "markdown",
   "id": "a45f1550-5088-4e54-b03e-705f53238fab",
   "metadata": {},
   "source": [
    "After executing the cell below , the input features (X) and target variable (Y) will be scaled to the range [0, 1] and stored in the variables X and Y, respectively. These scaled features and target variable can then be used for training a machine learning model."
   ]
  },
  {
   "cell_type": "code",
   "execution_count": null,
   "id": "7cd886d2",
   "metadata": {},
   "outputs": [],
   "source": [
    "x_scaler = MinMaxScaler() #initializes a MinMaxScaler object for scaling the input features (X)\n",
    "X = x_scaler.fit_transform(X.reshape(-1,1))\n",
    "X = X[ : , -1]\n",
    "y_scaler = MinMaxScaler()\n",
    "Y = y_scaler.fit_transform(Y.reshape(-1,1))\n",
    "Y = Y[ : , -1]"
   ]
  },
  {
   "cell_type": "markdown",
   "id": "74315b1b",
   "metadata": {},
   "source": [
    "### Splitting the Data"
   ]
  },
  {
   "cell_type": "code",
   "execution_count": null,
   "id": "460c8dd0",
   "metadata": {},
   "outputs": [],
   "source": [
    "xtrain, xtest, ytrain, ytest = train_test_split(X, Y, test_size=0.2)"
   ]
  },
  {
   "cell_type": "markdown",
   "id": "d55b5390",
   "metadata": {},
   "source": [
    "### Error Function\n",
    "Mean squared error (MSE) between the predicted values from a linear regression model and the target values. The MSE quantifies the overall fit of the model to the data, with lower values indicating better model performance.\n",
    "- m: slope (rate of change of the dependent variable t with respect to changes in x)\n",
    "- x: Independent variable or Input values ()\n",
    "- c: constant term or the value of t when x is zero.\n",
    "- t: Trying to predict this variable (Market Value)"
   ]
  },
  {
   "cell_type": "code",
   "execution_count": null,
   "id": "9d34f4aa",
   "metadata": {},
   "outputs": [],
   "source": [
    "def error(m, x, c, t):\n",
    "    N = x.size\n",
    "    e = sum(((m * x + c) - t)**2)\n",
    "    return e * 1/(2 * N)"
   ]
  },
  {
   "cell_type": "markdown",
   "id": "aa6a603f",
   "metadata": {},
   "source": [
    "### Update Function\n",
    "Used to update the parameters m (slope) and c (intercept) of a linear regression model using gradient descent."
   ]
  },
  {
   "cell_type": "code",
   "execution_count": null,
   "id": "81d2743a",
   "metadata": {},
   "outputs": [],
   "source": [
    "def update(m, x, c, t, learning_rate):\n",
    "    grad_m = sum(2*((m*x+c)-t)*x)\n",
    "    grad_c = sum(2*((m*x+c)-t))\n",
    "    m = m - grad_m * learning_rate\n",
    "    c = c - grad_c * learning_rate\n",
    "    return m,c"
   ]
  },
  {
   "cell_type": "markdown",
   "id": "1862e4ce",
   "metadata": {},
   "source": [
    "### Gradient Descent Function"
   ]
  },
  {
   "cell_type": "code",
   "execution_count": null,
   "id": "252cf02d",
   "metadata": {},
   "outputs": [],
   "source": [
    "def gradient_descent(init_m, init_c, x, t, learning_rate, iterations, error_threshold):\n",
    "    m = init_m\n",
    "    c = init_c\n",
    "    error_values = []\n",
    "    mc_values = []\n",
    "    for i in range(iterations):\n",
    "        e = error(m,x,c,t)\n",
    "        if e < error_threshold:\n",
    "            print(\"Error less than the threshold. Stopping the gradient descent.\")\n",
    "            break\n",
    "        error_values.append(e)\n",
    "        m,c = update(m,x,c,t,learning_rate)\n",
    "        mc_values.append((m,c))\n",
    "    return m, c, error_values, mc_values"
   ]
  },
  {
   "cell_type": "code",
   "execution_count": null,
   "id": "d9ae0571",
   "metadata": {},
   "outputs": [],
   "source": [
    "init_m = 0.9\n",
    "init_c = 0\n",
    "learning_rate = 0.001\n",
    "iterations = 250\n",
    "error_threshold = 0.001\n",
    "m, c, error_values, mc_values = gradient_descent(init_m, init_c, xtrain, ytrain, learning_rate, iterations, error_threshold)"
   ]
  },
  {
   "cell_type": "markdown",
   "id": "d9e6a896",
   "metadata": {},
   "source": [
    "### Visualization"
   ]
  },
  {
   "cell_type": "code",
   "execution_count": null,
   "id": "1e588774",
   "metadata": {},
   "outputs": [],
   "source": [
    "mc_values_anim = mc_values[0:250:5]\n",
    "#contains a subset of (m, c) tuples from the first 250 iterations of gradient descent, sampled at every 5th iteration. \n",
    "#This subset can be used to visualize the progression of parameter values during the optimization process."
   ]
  },
  {
   "cell_type": "code",
   "execution_count": null,
   "id": "c6ab816d",
   "metadata": {},
   "outputs": [],
   "source": [
    "def init():\n",
    "    plt.scatter(xtest, ytest, color='g')\n",
    "    ax.set_xlim(0, 1.0)\n",
    "    ax.set_ylim(0, 1.0)\n",
    "    return ln,\n",
    "\n",
    "def update_frame(frame):\n",
    "    m, c = mc_values_anim[frame]\n",
    "    x1, y1 = -0.5, m * -.5 + c\n",
    "    x2, y2 = 1.5, m * 1.5 + c\n",
    "    ln.set_data([x1, x2], [y1, y2])\n",
    "    return ln,"
   ]
  },
  {
   "cell_type": "markdown",
   "id": "36a83cf3",
   "metadata": {},
   "source": [
    "### Visualization of the learning process"
   ]
  },
  {
   "cell_type": "code",
   "execution_count": null,
   "id": "e7f1109b",
   "metadata": {},
   "outputs": [],
   "source": [
    "sns.scatterplot(x=xtrain, y=ytrain)\n",
    "plt.plot(xtrain, (m * xtrain + c), color='r')"
   ]
  },
  {
   "cell_type": "markdown",
   "id": "1658e953",
   "metadata": {},
   "source": [
    "### Plotting Error Values"
   ]
  },
  {
   "cell_type": "code",
   "execution_count": null,
   "id": "ca8f54e5",
   "metadata": {},
   "outputs": [],
   "source": [
    "plt.plot(np.arange(len(error_values)), error_values)\n",
    "plt.ylabel('Errors')\n",
    "plt.xlabel('Iterations')"
   ]
  },
  {
   "cell_type": "markdown",
   "id": "eeddd0e3",
   "metadata": {},
   "source": [
    "### Prediction"
   ]
  },
  {
   "cell_type": "markdown",
   "id": "597431dd",
   "metadata": {},
   "source": [
    "### Calculate the predictions"
   ]
  },
  {
   "cell_type": "code",
   "execution_count": null,
   "id": "e994952a",
   "metadata": {},
   "outputs": [],
   "source": [
    "predicted = (m * xtest + c)"
   ]
  },
  {
   "cell_type": "code",
   "execution_count": null,
   "id": "7508ddc2",
   "metadata": {},
   "outputs": [],
   "source": [
    "# Calculate MSE for the predicted value on the testing set\n",
    "mean_squared_error(ytest, predicted)"
   ]
  },
  {
   "cell_type": "code",
   "execution_count": null,
   "id": "b070b9d5",
   "metadata": {},
   "outputs": [],
   "source": [
    "# Putting xtest, ytest and predicted values into a single DataFrame\n",
    "p = pd.DataFrame(list(zip(xtest, ytest, predicted)), columns=['x', 'target_y', 'predicted_y'])\n",
    "p.head()"
   ]
  },
  {
   "cell_type": "markdown",
   "id": "45e2ef44",
   "metadata": {},
   "source": [
    "### Reshape Normalization"
   ]
  },
  {
   "cell_type": "code",
   "execution_count": null,
   "id": "bc22c86b",
   "metadata": {},
   "outputs": [],
   "source": [
    "predicted  = predicted.reshape(-1,1)\n",
    "xtest  = xtest.reshape(-1,1)\n",
    "ytest  = ytest.reshape(-1,1)\n",
    "\n",
    "xtest_scaled = x_scaler.inverse_transform(xtest)\n",
    "ytest_scaled = y_scaler.inverse_transform(ytest)\n",
    "predicted_scaled = y_scaler.inverse_transform(predicted)\n",
    "\n",
    "xtest_scaled = xtest_scaled[ : , -1]\n",
    "ytest_scaled = ytest_scaled[ : , -1]\n",
    "predicted_scaled = predicted_scaled[ : , -1]\n",
    "\n",
    "p = pd.DataFrame(list(zip(xtest_scaled, ytest_scaled, predicted_scaled)), columns=['x', 'target_y', 'predicted_y'])\n",
    "p = p.round(decimals = 2)\n",
    "p.head(10)"
   ]
  },
  {
   "cell_type": "code",
   "execution_count": null,
   "id": "1fc8f00f-0a96-459b-94bf-3db13c0f6eb1",
   "metadata": {},
   "outputs": [],
   "source": [
    "# Create a scatter plot for actual target values\n",
    "plt.scatter(p['x'], p['target_y'], color='blue', label='Actual')\n",
    "\n",
    "# Create a scatter plot for predicted target values\n",
    "plt.scatter(p['x'], p['predicted_y'], color='red', label='Predicted')\n",
    "\n",
    "# Add labels and title\n",
    "plt.xlabel('Original Scaled Input Features')\n",
    "plt.ylabel('Target Values')\n",
    "plt.title('Comparison of Actual vs Predicted Target Values')\n",
    "plt.legend()\n",
    "\n",
    "# Show the plot\n",
    "plt.show()\n"
   ]
  },
  {
   "cell_type": "code",
   "execution_count": null,
   "id": "ddac2c1c-c308-4c3b-824b-09df60c8eae4",
   "metadata": {},
   "outputs": [],
   "source": [
    "from sklearn.metrics import mean_squared_error\n",
    "from sklearn.model_selection import train_test_split\n",
    "from sklearn.linear_model import LinearRegression\n",
    "\n",
    "# Assuming fb is your DataFrame containing 'market_value' and 'fpl_value' columns\n",
    "\n",
    "# Split data into train and test sets\n",
    "X = fb[['fpl_value']]  # Assuming 'fpl_value' is the feature\n",
    "y = fb['market_value']  # Assuming 'market_value' is the target\n",
    "\n",
    "X_train, X_test, y_train, y_test = train_test_split(X, y, test_size=0.2, random_state=42)\n",
    "\n",
    "# Initialize and fit the model\n",
    "model = LinearRegression()\n",
    "model.fit(X_train, y_train)\n",
    "\n",
    "# Make predictions\n",
    "y_pred = model.predict(X_test)\n",
    "\n",
    "# Calculate mean squared error\n",
    "mse = mean_squared_error(y_test, y_pred)\n",
    "print(\"Mean Squared Error:\", mse)\n"
   ]
  },
  {
   "cell_type": "code",
   "execution_count": null,
   "id": "5958c5e6-1126-4e2a-9831-02e1081ac455",
   "metadata": {},
   "outputs": [],
   "source": [
    "import numpy as np\n",
    "\n",
    "# Assuming fb is your DataFrame containing 'market_value' column\n",
    "\n",
    "# Calculate variance\n",
    "market_value_variance = np.var(fb['market_value'])\n",
    "\n",
    "print(\"Variance of market_value:\", market_value_variance)\n"
   ]
  },
  {
   "cell_type": "markdown",
   "id": "e8ec80ad-d83c-4cef-83dd-414ccc9df24a",
   "metadata": {},
   "source": [
    "As a general rule of thumb, it's helpful to compare your MSE to the variance of your target variable. \n",
    "If the MSE is much smaller than the variance, it suggests that your model is performing well. \n",
    "Conversely, if the MSE is close to or larger than the variance, it indicates that your model is not capturing the variability in the data."
   ]
  },
  {
   "cell_type": "code",
   "execution_count": null,
   "id": "b721f066-d8e3-45ae-aa0a-5e37442226ff",
   "metadata": {},
   "outputs": [],
   "source": [
    "if mse < market_value_variance:\n",
    "    print(\"The model's performance is good as the mean squared error is much smaller than the variance of the target variable 'market_value'.\")\n",
    "else:\n",
    "    print(\"The model's performance is relatively poor as the mean squared error is close to or larger than the variance of the target variable 'market_value'.\")"
   ]
  }
 ],
 "metadata": {
  "kernelspec": {
   "display_name": "Python 3 (ipykernel)",
   "language": "python",
   "name": "python3"
  },
  "language_info": {
   "codemirror_mode": {
    "name": "ipython",
    "version": 3
   },
   "file_extension": ".py",
   "mimetype": "text/x-python",
   "name": "python",
   "nbconvert_exporter": "python",
   "pygments_lexer": "ipython3",
   "version": "3.12.1"
  }
 },
 "nbformat": 4,
 "nbformat_minor": 5
}
